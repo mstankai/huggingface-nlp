{
 "cells": [
  {
   "cell_type": "markdown",
   "metadata": {},
   "source": [
    "## Chapter 1: Transformer Models"
   ]
  },
  {
   "cell_type": "markdown",
   "metadata": {},
   "source": [
    "### Transformers, what can they do?"
   ]
  },
  {
   "cell_type": "code",
   "execution_count": 5,
   "metadata": {},
   "outputs": [
    {
     "name": "stderr",
     "output_type": "stream",
     "text": [
      "Device set to use mps:0\n"
     ]
    },
    {
     "data": {
      "text/plain": [
       "[{'label': 'neutral', 'score': 0.9399391412734985}]"
      ]
     },
     "execution_count": 5,
     "metadata": {},
     "output_type": "execute_result"
    }
   ],
   "source": [
    "# Exploring the pipeline function\n",
    "from transformers import pipeline\n",
    "\n",
    "model = \"facebook/bart-large-mnli\"\n",
    "\n",
    "answers = {}\n",
    "\n",
    "classifier = pipeline(\"sentiment-analysis\", model=model)\n",
    "classifier(\"I am ambivalent about huggingface, maybe ok.\")"
   ]
  },
  {
   "cell_type": "code",
   "execution_count": 6,
   "metadata": {},
   "outputs": [
    {
     "name": "stderr",
     "output_type": "stream",
     "text": [
      "Device set to use mps:0\n"
     ]
    },
    {
     "data": {
      "text/plain": [
       "{'sequence': 'I love my new cookbook!',\n",
       " 'labels': ['cooking', 'apple', 'christmas', 'driving'],\n",
       " 'scores': [0.9254062175750732,\n",
       "  0.044148240238428116,\n",
       "  0.01918829418718815,\n",
       "  0.011257322505116463]}"
      ]
     },
     "execution_count": 6,
     "metadata": {},
     "output_type": "execute_result"
    }
   ],
   "source": [
    "classifier = pipeline(\"zero-shot-classification\", model=model)\n",
    "classifier(\n",
    "    \"I love my new cookbook!\", \n",
    "    candidate_labels = [\"christmas\", \"cooking\", \"driving\", \"apple\"]\n",
    ")"
   ]
  },
  {
   "cell_type": "code",
   "execution_count": 9,
   "metadata": {},
   "outputs": [],
   "source": [
    "# generator = pipeline(\"text-generation\")\n",
    "# generator(\n",
    "#     \"In this course, we will teach you how to\",\n",
    "#     num_return_sequences=2,\n",
    "#     max_length=15\n",
    "# )\n"
   ]
  },
  {
   "cell_type": "code",
   "execution_count": null,
   "metadata": {},
   "outputs": [],
   "source": []
  }
 ],
 "metadata": {
  "kernelspec": {
   "display_name": "huggingface-nlp",
   "language": "python",
   "name": "python3"
  },
  "language_info": {
   "codemirror_mode": {
    "name": "ipython",
    "version": 3
   },
   "file_extension": ".py",
   "mimetype": "text/x-python",
   "name": "python",
   "nbconvert_exporter": "python",
   "pygments_lexer": "ipython3",
   "version": "3.12.7"
  }
 },
 "nbformat": 4,
 "nbformat_minor": 2
}
